{
 "cells": [
  {
   "cell_type": "code",
   "execution_count": 1,
   "id": "2b2e2bcb",
   "metadata": {},
   "outputs": [
    {
     "name": "stdout",
     "output_type": "stream",
     "text": [
      "Hello World\n"
     ]
    }
   ],
   "source": [
    "print(\"Hello World\")"
   ]
  },
  {
   "cell_type": "code",
   "execution_count": 2,
   "id": "5ed2591f",
   "metadata": {},
   "outputs": [
    {
     "name": "stdout",
     "output_type": "stream",
     "text": [
      "Defaulting to user installation because normal site-packages is not writeable\n",
      "Requirement already satisfied: numpy in c:\\users\\dell\\appdata\\roaming\\python\\python310\\site-packages (1.25.1)\n"
     ]
    }
   ],
   "source": [
    "!pip3 install numpy"
   ]
  },
  {
   "cell_type": "markdown",
   "id": "c36a010e",
   "metadata": {},
   "source": [
    "## We Are going to learn numpy Now"
   ]
  },
  {
   "cell_type": "code",
   "execution_count": 5,
   "id": "31769ab3",
   "metadata": {},
   "outputs": [],
   "source": [
    "import numpy as np"
   ]
  },
  {
   "cell_type": "code",
   "execution_count": 6,
   "id": "cad4c33e",
   "metadata": {},
   "outputs": [],
   "source": [
    "arr=np.array([[1,2,3],[4,2,5]])"
   ]
  },
  {
   "cell_type": "code",
   "execution_count": 7,
   "id": "ab293b58",
   "metadata": {},
   "outputs": [
    {
     "data": {
      "text/plain": [
       "numpy.ndarray"
      ]
     },
     "execution_count": 7,
     "metadata": {},
     "output_type": "execute_result"
    }
   ],
   "source": [
    "type(arr)"
   ]
  },
  {
   "cell_type": "code",
   "execution_count": 8,
   "id": "f353c81f",
   "metadata": {},
   "outputs": [
    {
     "data": {
      "text/plain": [
       "2"
      ]
     },
     "execution_count": 8,
     "metadata": {},
     "output_type": "execute_result"
    }
   ],
   "source": [
    "arr.ndim"
   ]
  },
  {
   "cell_type": "code",
   "execution_count": 9,
   "id": "f8479d19",
   "metadata": {},
   "outputs": [
    {
     "data": {
      "text/plain": [
       "(2, 3)"
      ]
     },
     "execution_count": 9,
     "metadata": {},
     "output_type": "execute_result"
    }
   ],
   "source": [
    "arr.shape"
   ]
  },
  {
   "cell_type": "code",
   "execution_count": 10,
   "id": "a54d91a8",
   "metadata": {},
   "outputs": [],
   "source": [
    "arr2=np.array([1,3,5])"
   ]
  },
  {
   "cell_type": "code",
   "execution_count": 11,
   "id": "3fa01b17",
   "metadata": {},
   "outputs": [
    {
     "data": {
      "text/plain": [
       "(3,)"
      ]
     },
     "execution_count": 11,
     "metadata": {},
     "output_type": "execute_result"
    }
   ],
   "source": [
    "arr2.shape"
   ]
  },
  {
   "cell_type": "code",
   "execution_count": 12,
   "id": "cc324e85",
   "metadata": {},
   "outputs": [
    {
     "data": {
      "text/plain": [
       "6"
      ]
     },
     "execution_count": 12,
     "metadata": {},
     "output_type": "execute_result"
    }
   ],
   "source": [
    "arr.size"
   ]
  },
  {
   "cell_type": "code",
   "execution_count": 13,
   "id": "d90adfef",
   "metadata": {},
   "outputs": [
    {
     "data": {
      "text/plain": [
       "dtype('int32')"
      ]
     },
     "execution_count": 13,
     "metadata": {},
     "output_type": "execute_result"
    }
   ],
   "source": [
    "arr.dtype"
   ]
  },
  {
   "cell_type": "code",
   "execution_count": 14,
   "id": "cbe48e29",
   "metadata": {},
   "outputs": [],
   "source": [
    "a=np.array([[1,2,3],[4,5,6]],dtype='float')"
   ]
  },
  {
   "cell_type": "code",
   "execution_count": 15,
   "id": "bb8bdf8d",
   "metadata": {},
   "outputs": [
    {
     "name": "stdout",
     "output_type": "stream",
     "text": [
      "Array created using list : \n",
      " [[1. 2. 3.]\n",
      " [4. 5. 6.]]\n"
     ]
    }
   ],
   "source": [
    "print(\"Array created using list : \\n\",a)"
   ]
  },
  {
   "cell_type": "code",
   "execution_count": 18,
   "id": "180295d6",
   "metadata": {},
   "outputs": [],
   "source": [
    "a=np.array([[1,2,3],[4,5,6]],dtype='int')"
   ]
  },
  {
   "cell_type": "code",
   "execution_count": 19,
   "id": "3984df3a",
   "metadata": {},
   "outputs": [
    {
     "name": "stdout",
     "output_type": "stream",
     "text": [
      "[[1 2 3]\n",
      " [4 5 6]]\n"
     ]
    }
   ],
   "source": [
    "print(a)"
   ]
  },
  {
   "cell_type": "code",
   "execution_count": 20,
   "id": "52455eac",
   "metadata": {},
   "outputs": [
    {
     "name": "stdout",
     "output_type": "stream",
     "text": [
      "\n",
      "Array created using passed tuple\n",
      " [1 3 2]\n"
     ]
    }
   ],
   "source": [
    "b=np.array((1,3,2))\n",
    "print(\"\\nArray created using passed tuple\\n\",b)"
   ]
  },
  {
   "cell_type": "code",
   "execution_count": 23,
   "id": "f4359cfd",
   "metadata": {},
   "outputs": [
    {
     "name": "stdout",
     "output_type": "stream",
     "text": [
      "\n",
      "An array initialized with all 6s,Array type is complex\n",
      " [[6.+0.j 6.+0.j 6.+0.j]\n",
      " [6.+0.j 6.+0.j 6.+0.j]\n",
      " [6.+0.j 6.+0.j 6.+0.j]]\n"
     ]
    }
   ],
   "source": [
    "#create a constant value array of complex type\n",
    "c=np.full((3,3),6,dtype='complex')\n",
    "print(\"\\nAn array initialized with all 6s,Array type is complex\\n\",c)"
   ]
  },
  {
   "cell_type": "code",
   "execution_count": 25,
   "id": "876fa9bc",
   "metadata": {},
   "outputs": [
    {
     "name": "stdout",
     "output_type": "stream",
     "text": [
      "\n",
      "Array iniyialized with all zeros:\n",
      " [[0. 0. 0. 0.]\n",
      " [0. 0. 0. 0.]\n",
      " [0. 0. 0. 0.]]\n"
     ]
    }
   ],
   "source": [
    "#creating a 3*4 array with all zeros\n",
    "d=np.zeros((3,4))\n",
    "print(\"\\nArray iniyialized with all zeros:\\n\",d)"
   ]
  },
  {
   "cell_type": "code",
   "execution_count": 27,
   "id": "9f873ec7",
   "metadata": {},
   "outputs": [
    {
     "name": "stdout",
     "output_type": "stream",
     "text": [
      "\n",
      "Random Array:\n",
      " [[0.09336449 0.48703514]\n",
      " [0.32668326 0.83159089]]\n"
     ]
    }
   ],
   "source": [
    "#create an array with random values\n",
    "e=np.random.random((2,2))\n",
    "print(\"\\nRandom Array:\\n\",e)"
   ]
  },
  {
   "cell_type": "code",
   "execution_count": 28,
   "id": "d2ff63fc",
   "metadata": {},
   "outputs": [
    {
     "name": "stdout",
     "output_type": "stream",
     "text": [
      "\n",
      "Sequential array with steps of 5:\n",
      " [ 0  5 10 15 20 25]\n"
     ]
    }
   ],
   "source": [
    "#create a sequence of integers from 0 to 30 with space of 5\n",
    "f=np.arange(0,30,5)\n",
    "print(\"\\nSequential array with steps of 5:\\n\",f)"
   ]
  },
  {
   "cell_type": "code",
   "execution_count": 30,
   "id": "95e30cae",
   "metadata": {},
   "outputs": [
    {
     "name": "stdout",
     "output_type": "stream",
     "text": [
      "\n",
      "A Sequence array with 10 values b/w 0 and 5:\n",
      " [0.         0.55555556 1.11111111 1.66666667 2.22222222 2.77777778\n",
      " 3.33333333 3.88888889 4.44444444 5.        ]\n"
     ]
    }
   ],
   "source": [
    "#create a sequence of 10 values in range 0 to 5\n",
    "g=np.linspace(0,5,10)\n",
    "print(\"\\nA Sequence array with 10 values b/w 0 and 5:\\n\",g)"
   ]
  },
  {
   "cell_type": "code",
   "execution_count": 32,
   "id": "afd6fadd",
   "metadata": {},
   "outputs": [
    {
     "name": "stdout",
     "output_type": "stream",
     "text": [
      "\n",
      "Original array:\n",
      " [[1 2 3 0]\n",
      " [4 5 6 3]\n",
      " [7 8 9 1]]\n",
      "reshaped array:\n",
      " [[[1 2 3]\n",
      "  [0 4 5]]\n",
      "\n",
      " [[6 3 7]\n",
      "  [8 9 1]]]\n"
     ]
    }
   ],
   "source": [
    "#reshaping 3X4 array to 2X3X3 array\n",
    "arr=np.array([[1,2,3,0],[4,5,6,3],[7,8,9,1]])\n",
    "new_arr=arr.reshape(2,2,3)\n",
    "print(\"\\nOriginal array:\\n\",arr)\n",
    "print(\"reshaped array:\\n\",new_arr)"
   ]
  },
  {
   "cell_type": "code",
   "execution_count": 37,
   "id": "2200583e",
   "metadata": {},
   "outputs": [
    {
     "data": {
      "text/plain": [
       "array([[1., 1., 1., 1.],\n",
       "       [1., 1., 1., 1.],\n",
       "       [1., 1., 1., 1.]])"
      ]
     },
     "execution_count": 37,
     "metadata": {},
     "output_type": "execute_result"
    }
   ],
   "source": [
    "np.ones((3,4))"
   ]
  },
  {
   "cell_type": "code",
   "execution_count": 38,
   "id": "620f2a8e",
   "metadata": {},
   "outputs": [
    {
     "data": {
      "text/plain": [
       "array([[1., 0., 0.],\n",
       "       [0., 1., 0.],\n",
       "       [0., 0., 1.]])"
      ]
     },
     "execution_count": 38,
     "metadata": {},
     "output_type": "execute_result"
    }
   ],
   "source": [
    "np.eye(3)"
   ]
  },
  {
   "cell_type": "code",
   "execution_count": 39,
   "id": "548eef85",
   "metadata": {},
   "outputs": [],
   "source": [
    "np.arange?\n",
    "#help"
   ]
  },
  {
   "cell_type": "code",
   "execution_count": 40,
   "id": "f3bf2124",
   "metadata": {},
   "outputs": [],
   "source": [
    "np.eye?"
   ]
  },
  {
   "cell_type": "code",
   "execution_count": 41,
   "id": "52829126",
   "metadata": {},
   "outputs": [
    {
     "name": "stdout",
     "output_type": "stream",
     "text": [
      "\n",
      "Original Array:\n",
      " [[1 2 3]\n",
      " [4 5 6]]\n",
      "\n",
      "Fattened Array:\n",
      " [1 2 3 4 5 6]\n"
     ]
    }
   ],
   "source": [
    "#flatten array\n",
    "arr=np.array([[1,2,3],[4,5,6]])\n",
    "flarr=arr.flatten()\n",
    "print(\"\\nOriginal Array:\\n\",arr)\n",
    "print(\"\\nFattened Array:\\n\",flarr)"
   ]
  },
  {
   "cell_type": "markdown",
   "id": "8b4804de",
   "metadata": {},
   "source": [
    "# Slicing"
   ]
  },
  {
   "cell_type": "code",
   "execution_count": 42,
   "id": "64f6556b",
   "metadata": {},
   "outputs": [],
   "source": [
    "arr=np.array([[-1,2,0,4],[4,-0.5,6,0],[2,6,7,8],[3,-7,4,2]])"
   ]
  },
  {
   "cell_type": "code",
   "execution_count": 43,
   "id": "16335422",
   "metadata": {},
   "outputs": [
    {
     "data": {
      "text/plain": [
       "array([[-1. ,  2. ,  0. ,  4. ],\n",
       "       [ 4. , -0.5,  6. ,  0. ],\n",
       "       [ 2. ,  6. ,  7. ,  8. ],\n",
       "       [ 3. , -7. ,  4. ,  2. ]])"
      ]
     },
     "execution_count": 43,
     "metadata": {},
     "output_type": "execute_result"
    }
   ],
   "source": [
    "arr"
   ]
  },
  {
   "cell_type": "code",
   "execution_count": 44,
   "id": "081f684f",
   "metadata": {},
   "outputs": [
    {
     "name": "stdout",
     "output_type": "stream",
     "text": [
      "Array with first 2 rows and alternate column(0 and 2):\n",
      " [[-1.  0.]\n",
      " [ 4.  6.]]\n"
     ]
    }
   ],
   "source": [
    "temp=arr[:2,::2]\n",
    "print(\"Array with first 2 rows and alternate column(0 and 2):\\n\",temp)"
   ]
  },
  {
   "cell_type": "code",
   "execution_count": 45,
   "id": "17d7b609",
   "metadata": {},
   "outputs": [
    {
     "data": {
      "text/plain": [
       "array([[ 4. , -0.5,  6. ],\n",
       "       [ 2. ,  6. ,  7. ],\n",
       "       [ 3. , -7. ,  4. ]])"
      ]
     },
     "execution_count": 45,
     "metadata": {},
     "output_type": "execute_result"
    }
   ],
   "source": [
    "arr[1:,:3]"
   ]
  },
  {
   "cell_type": "code",
   "execution_count": 46,
   "id": "561bb52c",
   "metadata": {},
   "outputs": [
    {
     "name": "stdout",
     "output_type": "stream",
     "text": [
      "\n",
      "Elements at indices (0,3),(1,2),(2,1),(3,0):\n",
      " [4. 6. 6. 3.]\n"
     ]
    }
   ],
   "source": [
    "#integer array indexing example\n",
    "temp=arr[[0,1,2,3],[3,2,1,0]]\n",
    "print(\"\\nElements at indices (0,3),(1,2),(2,1),(3,0):\\n\",temp)"
   ]
  },
  {
   "cell_type": "code",
   "execution_count": 50,
   "id": "860ed367",
   "metadata": {},
   "outputs": [
    {
     "name": "stdout",
     "output_type": "stream",
     "text": [
      "\n",
      "Elements greater than 0:\n",
      " [2. 4. 4. 6. 2. 6. 7. 8. 3. 4. 2.]\n"
     ]
    }
   ],
   "source": [
    "#boolean array indexing example\n",
    "cond=arr>0 \n",
    "temp=arr[cond]\n",
    "print(\"\\nElements greater than 0:\\n\",temp)"
   ]
  },
  {
   "cell_type": "code",
   "execution_count": 51,
   "id": "609a7d76",
   "metadata": {},
   "outputs": [
    {
     "data": {
      "text/plain": [
       "array([[-1. ,  2. ,  0. ,  4. ],\n",
       "       [ 4. , -0.5,  6. ,  0. ],\n",
       "       [ 2. ,  6. ,  7. ,  8. ],\n",
       "       [ 3. , -7. ,  4. ,  2. ]])"
      ]
     },
     "execution_count": 51,
     "metadata": {},
     "output_type": "execute_result"
    }
   ],
   "source": [
    "arr"
   ]
  },
  {
   "cell_type": "code",
   "execution_count": 52,
   "id": "222504c8",
   "metadata": {},
   "outputs": [
    {
     "data": {
      "text/plain": [
       "array([[-1. ,  4. ,  2. ,  3. ],\n",
       "       [ 2. , -0.5,  6. , -7. ],\n",
       "       [ 0. ,  6. ,  7. ,  4. ],\n",
       "       [ 4. ,  0. ,  8. ,  2. ]])"
      ]
     },
     "execution_count": 52,
     "metadata": {},
     "output_type": "execute_result"
    }
   ],
   "source": [
    "#Transpose\n",
    "arr.T"
   ]
  },
  {
   "cell_type": "code",
   "execution_count": 53,
   "id": "c4f336c4",
   "metadata": {},
   "outputs": [
    {
     "data": {
      "text/plain": [
       "8.0"
      ]
     },
     "execution_count": 53,
     "metadata": {},
     "output_type": "execute_result"
    }
   ],
   "source": [
    "arr.max()"
   ]
  },
  {
   "cell_type": "code",
   "execution_count": 54,
   "id": "8133af50",
   "metadata": {},
   "outputs": [
    {
     "data": {
      "text/plain": [
       "array([4., 6., 8., 4.])"
      ]
     },
     "execution_count": 54,
     "metadata": {},
     "output_type": "execute_result"
    }
   ],
   "source": [
    "arr.max(axis=1)"
   ]
  },
  {
   "cell_type": "code",
   "execution_count": 55,
   "id": "a8a5bffd",
   "metadata": {},
   "outputs": [
    {
     "data": {
      "text/plain": [
       "array([-1., -7.,  0.,  0.])"
      ]
     },
     "execution_count": 55,
     "metadata": {},
     "output_type": "execute_result"
    }
   ],
   "source": [
    "arr.min(axis=0)"
   ]
  },
  {
   "cell_type": "code",
   "execution_count": 56,
   "id": "c79f6e4c",
   "metadata": {},
   "outputs": [],
   "source": [
    "a=np.array([[1,2],[3,4]])\n",
    "b=np.array([[5,6],[7,8]])"
   ]
  },
  {
   "cell_type": "code",
   "execution_count": 57,
   "id": "503e433b",
   "metadata": {},
   "outputs": [
    {
     "data": {
      "text/plain": [
       "array([[1, 2],\n",
       "       [3, 4],\n",
       "       [5, 6],\n",
       "       [7, 8]])"
      ]
     },
     "execution_count": 57,
     "metadata": {},
     "output_type": "execute_result"
    }
   ],
   "source": [
    "#vertical stacking\n",
    "np.vstack((a,b))"
   ]
  },
  {
   "cell_type": "code",
   "execution_count": 58,
   "id": "e77d7178",
   "metadata": {},
   "outputs": [
    {
     "data": {
      "text/plain": [
       "array([[1, 2, 5, 6],\n",
       "       [3, 4, 7, 8]])"
      ]
     },
     "execution_count": 58,
     "metadata": {},
     "output_type": "execute_result"
    }
   ],
   "source": [
    "#horizontal stacking\n",
    "np.hstack((a,b))"
   ]
  },
  {
   "cell_type": "code",
   "execution_count": 63,
   "id": "6d58b226",
   "metadata": {},
   "outputs": [],
   "source": [
    "c=[5,6]"
   ]
  },
  {
   "cell_type": "code",
   "execution_count": 65,
   "id": "4892c9cc",
   "metadata": {},
   "outputs": [
    {
     "data": {
      "text/plain": [
       "array([[1, 2, 5],\n",
       "       [3, 4, 6]])"
      ]
     },
     "execution_count": 65,
     "metadata": {},
     "output_type": "execute_result"
    }
   ],
   "source": [
    "#stacking columns\n",
    "np.column_stack((a,c))"
   ]
  },
  {
   "cell_type": "code",
   "execution_count": 66,
   "id": "a62b0c8e",
   "metadata": {},
   "outputs": [
    {
     "data": {
      "text/plain": [
       "array([[1, 2, 5, 6],\n",
       "       [3, 4, 7, 8]])"
      ]
     },
     "execution_count": 66,
     "metadata": {},
     "output_type": "execute_result"
    }
   ],
   "source": [
    "#concatenating\n",
    "np.concatenate((a,b),1)"
   ]
  },
  {
   "cell_type": "code",
   "execution_count": 67,
   "id": "67b44915",
   "metadata": {},
   "outputs": [
    {
     "data": {
      "text/plain": [
       "[array([[1],\n",
       "        [3]]),\n",
       " array([[2],\n",
       "        [4]])]"
      ]
     },
     "execution_count": 67,
     "metadata": {},
     "output_type": "execute_result"
    }
   ],
   "source": [
    "np.hsplit(a,2)"
   ]
  },
  {
   "cell_type": "code",
   "execution_count": 68,
   "id": "07cd73a4",
   "metadata": {},
   "outputs": [
    {
     "data": {
      "text/plain": [
       "[array([[1, 2]]), array([[3, 4]])]"
      ]
     },
     "execution_count": 68,
     "metadata": {},
     "output_type": "execute_result"
    }
   ],
   "source": [
    "np.vsplit(a,2)"
   ]
  }
 ],
 "metadata": {
  "kernelspec": {
   "display_name": "Python 3 (ipykernel)",
   "language": "python",
   "name": "python3"
  },
  "language_info": {
   "codemirror_mode": {
    "name": "ipython",
    "version": 3
   },
   "file_extension": ".py",
   "mimetype": "text/x-python",
   "name": "python",
   "nbconvert_exporter": "python",
   "pygments_lexer": "ipython3",
   "version": "3.11.4"
  }
 },
 "nbformat": 4,
 "nbformat_minor": 5
}
